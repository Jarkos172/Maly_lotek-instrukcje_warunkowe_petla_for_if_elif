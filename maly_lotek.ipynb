{
 "cells": [
  {
   "cell_type": "code",
   "execution_count": 5,
   "metadata": {},
   "outputs": [
    {
     "name": "stdout",
     "output_type": "stream",
     "text": [
      "Jaka liczbe od 1 do 10 mam na mysli?6\n",
      "Wybrana liczba: 6\n"
     ]
    }
   ],
   "source": [
    "import random\n",
    "\n",
    "liczba = random.randint(1, 10)\n",
    "#print(\"Wylosowana liczba:\", liczba)\n",
    "\n",
    "odp = input(\"Jaka liczbe od 1 do 10 mam na mysli?\")\n",
    "print(\"Wybrana liczba:\", odp)"
   ]
  },
  {
   "cell_type": "code",
   "execution_count": 11,
   "metadata": {},
   "outputs": [
    {
     "name": "stdout",
     "output_type": "stream",
     "text": [
      "Jaką liczbę od 1 do 10 mam na myśli? 4\n",
      "Nie zgadłeś. Spróbuj jeszcze raz.\n"
     ]
    }
   ],
   "source": [
    "# instrukcje warunkowe \n",
    "\n",
    "import random\n",
    "\n",
    "liczba = random.randint(1, 10)\n",
    "# print(\"Wylosowana liczba:\", liczba)\n",
    "\n",
    "odp = input(\"Jaką liczbę od 1 do 10 mam na myśli? \")\n",
    "# print(\"Podałeś liczbę: \", odp)\n",
    "\n",
    "if liczba == int(odp):\n",
    "    print(\"Zgadłeś! Dostajesz długopis!\")\n",
    "else:\n",
    "    print(\"Nie zgadłeś. Spróbuj jeszcze raz.\")"
   ]
  },
  {
   "cell_type": "code",
   "execution_count": 14,
   "metadata": {},
   "outputs": [
    {
     "name": "stdout",
     "output_type": "stream",
     "text": [
      "Jaką liczbę od 1 do 10 mam na myśli? 1\n",
      "Nie zgadłeś. Spróbuj jeszcze raz.\n",
      "\n",
      "Jaką liczbę od 1 do 10 mam na myśli? 5\n",
      "Nie zgadłeś. Spróbuj jeszcze raz.\n",
      "\n",
      "Jaką liczbę od 1 do 10 mam na myśli? 6\n",
      "Nie zgadłeś. Spróbuj jeszcze raz.\n",
      "\n"
     ]
    }
   ],
   "source": [
    "#pętla FOR\n",
    "\n",
    "import random\n",
    "\n",
    "liczba = random.randint(1, 10)\n",
    "# print(\"Wylosowana liczba:\", liczba)\n",
    "\n",
    "for i in range(3):\n",
    "    odp = input(\"Jaką liczbę od 1 do 10 mam na myśli? \")\n",
    "    # print(\"Podałeś liczbę: \", odp)\n",
    "\n",
    "    if liczba == int(odp):\n",
    "        print(\"Zgadłeś! Dostajesz długopis!\")\n",
    "        break\n",
    "    else:\n",
    "        print(\"Nie zgadłeś. Spróbuj jeszcze raz.\")\n",
    "        print()"
   ]
  },
  {
   "cell_type": "code",
   "execution_count": 15,
   "metadata": {},
   "outputs": [
    {
     "name": "stdout",
     "output_type": "stream",
     "text": [
      "Próba 1\n",
      "Jaką liczbę od 1 do 10 mam na myśli? 1\n",
      "Nie zgadłeś. Spróbuj jeszcze raz.\n",
      "\n",
      "Próba 2\n",
      "Jaką liczbę od 1 do 10 mam na myśli? 5\n",
      "Nie zgadłeś. Spróbuj jeszcze raz.\n",
      "\n",
      "Próba 3\n",
      "Jaką liczbę od 1 do 10 mam na myśli? 5\n",
      "Miałem na myśli: 9\n"
     ]
    }
   ],
   "source": [
    "#if, elif\n",
    "\n",
    "import random\n",
    "\n",
    "liczba = random.randint(1, 10)\n",
    "# print(\"Wylosowana liczba:\", liczba)\n",
    "\n",
    "for i in range(3):\n",
    "    print(\"Próba\", i+1)\n",
    "    odp = input(\"Jaką liczbę od 1 do 10 mam na myśli? \")\n",
    "    # print(\"Podałeś liczbę: \", odp)\n",
    "\n",
    "    if liczba == int(odp):\n",
    "        print(\"Zgadłeś! Dostajesz długopis!\")\n",
    "        break\n",
    "    elif i == 2:\n",
    "        print(\"Miałem na myśli:\", liczba)\n",
    "    else:\n",
    "        print(\"Nie zgadłeś. Spróbuj jeszcze raz.\")\n",
    "        print()"
   ]
  },
  {
   "cell_type": "code",
   "execution_count": null,
   "metadata": {},
   "outputs": [],
   "source": []
  }
 ],
 "metadata": {
  "kernelspec": {
   "display_name": "Python 3",
   "language": "python",
   "name": "python3"
  },
  "language_info": {
   "codemirror_mode": {
    "name": "ipython",
    "version": 3
   },
   "file_extension": ".py",
   "mimetype": "text/x-python",
   "name": "python",
   "nbconvert_exporter": "python",
   "pygments_lexer": "ipython3",
   "version": "3.7.4"
  }
 },
 "nbformat": 4,
 "nbformat_minor": 2
}
